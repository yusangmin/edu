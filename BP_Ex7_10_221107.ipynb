{
  "nbformat": 4,
  "nbformat_minor": 0,
  "metadata": {
    "colab": {
      "provenance": [],
      "authorship_tag": "ABX9TyOpvqoFdiDwMm4xwflAgnT6",
      "include_colab_link": true
    },
    "kernelspec": {
      "name": "python3",
      "display_name": "Python 3"
    },
    "language_info": {
      "name": "python"
    }
  },
  "cells": [
    {
      "cell_type": "markdown",
      "metadata": {
        "id": "view-in-github",
        "colab_type": "text"
      },
      "source": [
        "<a href=\"https://colab.research.google.com/github/yusangmin/edu/blob/main/BP_Ex7_10_221107.ipynb\" target=\"_parent\"><img src=\"https://colab.research.google.com/assets/colab-badge.svg\" alt=\"Open In Colab\"/></a>"
      ]
    },
    {
      "cell_type": "code",
      "execution_count": null,
      "metadata": {
        "id": "0SdJFaMyWOEZ"
      },
      "outputs": [],
      "source": [
        "import turtle\n",
        "t = turtle.Turtle()\n",
        "t.shape(\"turtle\")\n",
        "t.color(\"black\", \"white\")\n",
        "s = turtle.Screen(); s.bgcolor('skyblue');\n",
        "\n",
        "def draw_snowman(x, y):\n",
        "    t.up()\n",
        "    t.goto(x, y)\n",
        "    t.down()\n",
        "    t.begin_fill()\n",
        "    t.circle(20)\n",
        "    t.end_fill()\n",
        "    t.goto(x, y-25)\n",
        "    t.setheading(135)\n",
        "    t.forward(50)\n",
        "    t.backward(50)\n",
        "\n",
        "    t.setheading(30)\n",
        "    t.forward(50)\n",
        "    t.backward(50)\n",
        "    t.setheading(0)\n",
        "\n",
        "    t.begin_fill()\n",
        "    t.circle(15)\n",
        "    t.end_fill()\n",
        "    t.goto(x, y-70)\n",
        "    t.begin_fill()\n",
        "    t.circle(30)\n",
        "    t.end_fill()\n",
        "\n",
        "draw_snowman(0, 0)\n",
        "draw_snowman(100, 0)\n",
        "draw_snowman(200, 0) "
      ]
    },
    {
      "cell_type": "code",
      "source": [
        "import turtle \n",
        "t = turtle.Turtle()\n",
        "t.shape(\"turtle\")\n",
        "t.speed(0)\n",
        "\n",
        "def hexagon():\n",
        "  for i in range(6):\n",
        "      turtle.forward(100)\n",
        "      turtle.left(360/6)\n",
        "\n",
        "for i in range (6):\n",
        "    hexagon()\n",
        "    turtle.forward(100)\n",
        "    turtle.right(60)"
      ],
      "metadata": {
        "id": "Vb6tpVNPWo_7"
      },
      "execution_count": null,
      "outputs": []
    },
    {
      "cell_type": "code",
      "source": [
        "import turtle \n",
        "t = turtle.Turtle()\n",
        "t.shape(\"turtle\")\n",
        "t.speed(0)\n",
        "\n",
        "def f(x):\n",
        "    return x**2+1\n",
        "\n",
        "t.goto(200, 0)\n",
        "t.goto(0, 0)\n",
        "t.goto(0, 200)\n",
        "t.goto(0, 0)\n",
        "\n",
        "for x in range(150):\n",
        "\tt.goto(x, int(0.01*f(x)))"
      ],
      "metadata": {
        "id": "LINphT2HWvfL"
      },
      "execution_count": null,
      "outputs": []
    },
    {
      "cell_type": "code",
      "source": [
        "import turtle \n",
        "t = turtle.Turtle()\n",
        "t.shape(\"turtle\")\n",
        "t.speed(0)\n",
        "\n",
        "def draw_line():\n",
        "    t.forward(100)\n",
        "    t.backward(100)\n",
        "\n",
        "for x in range(12):\n",
        "\tt.right(30)\n",
        "\tdraw_line()"
      ],
      "metadata": {
        "id": "jxuojiQ-WxnH"
      },
      "execution_count": null,
      "outputs": []
    },
    {
      "cell_type": "code",
      "source": [
        "def happyBirthday(person):\n",
        "    print(\"Happy Birthday to you!\")\n",
        "    print(\"Happy Birthday to you!\")\n",
        "    print(\"Happy Birthday, dear \" + person)\n",
        "    print(\"Happy Birthday to you!\")\n",
        "\n",
        "happyBirthday(\"홍길동\")"
      ],
      "metadata": {
        "colab": {
          "base_uri": "https://localhost:8080/"
        },
        "id": "EDuBlu-pW1eg",
        "outputId": "0049df45-8d74-4d1b-d4fe-55e697488596"
      },
      "execution_count": 1,
      "outputs": [
        {
          "output_type": "stream",
          "name": "stdout",
          "text": [
            "Happy Birthday to you!\n",
            "Happy Birthday to you!\n",
            "Happy Birthday, dear 홍길동\n",
            "Happy Birthday to you!\n"
          ]
        }
      ]
    },
    {
      "cell_type": "code",
      "source": [
        "def sumProblem(x, y):\n",
        "    sum = x + y\n",
        "    sentence = \"정수\" + str(x) + \"+\"+str(y)+\"의 합은?\"\n",
        "    print(sentence)\n",
        "\n",
        "def main():\n",
        "    a = int(input(\"첫 번째 정수: \"))\n",
        "    b = int(input(\"두 번째 정수: \"))\n",
        "    sumProblem(a, b)\n",
        "\n",
        "main()"
      ],
      "metadata": {
        "colab": {
          "base_uri": "https://localhost:8080/"
        },
        "id": "xpnaztcsW5hx",
        "outputId": "eb1b9bdf-dad7-4a09-c9d8-94b6740185d6"
      },
      "execution_count": 2,
      "outputs": [
        {
          "output_type": "stream",
          "name": "stdout",
          "text": [
            "첫 번째 정수: 5\n",
            "두 번째 정수: 6\n",
            "정수5+6의 합은?\n"
          ]
        }
      ]
    },
    {
      "cell_type": "code",
      "source": [
        "PI = 3.14159265358979   \n",
        "\n",
        "def circleArea(radius):\n",
        "    return PI*radius*radius    \n",
        "\n",
        "def circleCircumference(radius):\n",
        "    return 2*PI*radius         \n",
        "\n",
        "def main():\n",
        "    print('반지름이 5인 원의 면적:', circleArea(5))\n",
        "    print('반지름이 5인 원의 둘레:', circleCircumference(5))\n",
        "\n",
        "main()"
      ],
      "metadata": {
        "colab": {
          "base_uri": "https://localhost:8080/"
        },
        "id": "fn3U-YboW70P",
        "outputId": "19090649-b432-4218-be87-7381b8971e67"
      },
      "execution_count": 3,
      "outputs": [
        {
          "output_type": "stream",
          "name": "stdout",
          "text": [
            "반지름이 5인 원의 면적: 78.53981633974475\n",
            "반지름이 5인 원의 둘레: 31.4159265358979\n"
          ]
        }
      ]
    },
    {
      "cell_type": "code",
      "source": [
        "def add(a, b):\n",
        "    print( \"(%d + %d)\" % (a, b), end=\" \")\n",
        "    return a + b\n",
        "\n",
        "def subtract(a, b):\n",
        "    print (\"(%d - %d)\" % (a, b), end=\" \")\n",
        "    return a - b\n",
        "\n",
        "def multiply(a, b):\n",
        "    print (\"(%d * %d)\" % (a, b), end=\" \")\n",
        "    return a * b\n",
        "\n",
        "def divide(a, b):\n",
        "    print (\"(%d / %d)\" % (a, b), end=\" \")\n",
        "    return a / b\n",
        "\n",
        "\n",
        "what = add(20, 10)\n",
        "print(\"= \", what)"
      ],
      "metadata": {
        "id": "NbAXannBXLf-"
      },
      "execution_count": null,
      "outputs": []
    }
  ]
}