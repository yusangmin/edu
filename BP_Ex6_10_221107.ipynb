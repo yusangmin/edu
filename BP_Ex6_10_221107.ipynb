{
  "nbformat": 4,
  "nbformat_minor": 0,
  "metadata": {
    "colab": {
      "provenance": [],
      "authorship_tag": "ABX9TyPo6vQW+NgCb55Nxc4pknwv",
      "include_colab_link": true
    },
    "kernelspec": {
      "name": "python3",
      "display_name": "Python 3"
    },
    "language_info": {
      "name": "python"
    }
  },
  "cells": [
    {
      "cell_type": "markdown",
      "metadata": {
        "id": "view-in-github",
        "colab_type": "text"
      },
      "source": [
        "<a href=\"https://colab.research.google.com/github/yusangmin/edu/blob/main/BP_Ex6_10_221107.ipynb\" target=\"_parent\"><img src=\"https://colab.research.google.com/assets/colab-badge.svg\" alt=\"Open In Colab\"/></a>"
      ]
    },
    {
      "cell_type": "code",
      "execution_count": 1,
      "metadata": {
        "colab": {
          "base_uri": "https://localhost:8080/"
        },
        "id": "CZm0e2mpSCxM",
        "outputId": "035c1f94-eded-4abd-8906-5e6084bbfc90"
      },
      "outputs": [
        {
          "output_type": "stream",
          "name": "stdout",
          "text": [
            "2 4 6 8 10 12 14 16 18 20 22 24 26 28 30 32 34 36 38 40 42 44 46 48 50 52 54 56 58 60 62 64 66 68 70 72 74 76 78 80 82 84 86 88 90 92 94 96 98 100 "
          ]
        }
      ],
      "source": [
        "for i in range(2, 101):\n",
        "       if i%2==0 :\n",
        "           print(i,end = \" \")"
      ]
    },
    {
      "cell_type": "code",
      "source": [
        "year = 0\n",
        "balance = 1000\n",
        "\n",
        "while balance <= 2000 :\n",
        "\tyear = year + 1\n",
        "\tinterest = balance * 0.07\n",
        "\tbalance = balance + interest\n",
        "print(year, \"년이 걸립니다.\")"
      ],
      "metadata": {
        "colab": {
          "base_uri": "https://localhost:8080/"
        },
        "id": "v4oHp_jXSrVX",
        "outputId": "02a9bbb9-7da2-490e-9edf-e6543b3547d2"
      },
      "execution_count": 2,
      "outputs": [
        {
          "output_type": "stream",
          "name": "stdout",
          "text": [
            "11 년이 걸립니다.\n"
          ]
        }
      ]
    },
    {
      "cell_type": "code",
      "source": [
        "n = 1234\n",
        "sum = 0\n",
        "while n > 0 :\n",
        "  digit = n % 10\n",
        "  sum = sum + digit\n",
        "  n = n // 10\n",
        "print(sum)"
      ],
      "metadata": {
        "colab": {
          "base_uri": "https://localhost:8080/"
        },
        "id": "Z_Tj2KmYSwsF",
        "outputId": "b1895e2e-ac9e-419f-c003-b43c9b58b920"
      },
      "execution_count": 3,
      "outputs": [
        {
          "output_type": "stream",
          "name": "stdout",
          "text": [
            "10\n"
          ]
        }
      ]
    },
    {
      "cell_type": "code",
      "source": [
        "ans = 0\n",
        "while ans != 3*9:\n",
        "    ans = int(input(\"3*9는\"))\n",
        "print(\"맞았습니다.\")"
      ],
      "metadata": {
        "colab": {
          "base_uri": "https://localhost:8080/"
        },
        "id": "_SoQx0rSS-Vg",
        "outputId": "d7ed0238-f662-42be-f286-567812ac677f"
      },
      "execution_count": 4,
      "outputs": [
        {
          "output_type": "stream",
          "name": "stdout",
          "text": [
            "3*9는27\n",
            "맞았습니다.\n"
          ]
        }
      ]
    },
    {
      "cell_type": "code",
      "source": [
        "sum = 0\n",
        "while True:\n",
        "    x = int(input(\"정수를 입력하시오: \"))\n",
        "    if x == 0:\n",
        "        break;\n",
        "    sum = sum + x\n",
        "\n",
        "print(\"합은 \", sum, \"입니다.\")"
      ],
      "metadata": {
        "colab": {
          "base_uri": "https://localhost:8080/"
        },
        "id": "AqPFFN8ZTFSh",
        "outputId": "55c44546-ceed-4b80-ead7-69c32aeb8074"
      },
      "execution_count": 5,
      "outputs": [
        {
          "output_type": "stream",
          "name": "stdout",
          "text": [
            "정수를 입력하시오: 5\n",
            "정수를 입력하시오: 7\n",
            "정수를 입력하시오: 2\n",
            "정수를 입력하시오: 5\n",
            "정수를 입력하시오: 0\n",
            "합은  19 입니다.\n"
          ]
        }
      ]
    },
    {
      "cell_type": "code",
      "source": [
        "from random import randint\n",
        "\n",
        "for i in range(3) :\n",
        "   d1 = randint(1, 6)\n",
        "   d2 = randint(1, 6)\n",
        "   print(\"첫번째 주사위=\", d1, \"두번째 주사위=\", d2)"
      ],
      "metadata": {
        "colab": {
          "base_uri": "https://localhost:8080/"
        },
        "id": "987JyuBpTQ8n",
        "outputId": "184a5af2-701a-455b-f412-c1d03e3f964c"
      },
      "execution_count": 6,
      "outputs": [
        {
          "output_type": "stream",
          "name": "stdout",
          "text": [
            "첫번째 주사위= 3 두번째 주사위= 5\n",
            "첫번째 주사위= 6 두번째 주사위= 3\n",
            "첫번째 주사위= 2 두번째 주사위= 4\n"
          ]
        }
      ]
    },
    {
      "cell_type": "code",
      "source": [
        "import turtle\n",
        "\n",
        "t = turtle.Turtle()\n",
        "t.shape(\"turtle\")\n",
        "t.left(90)\n",
        "\n",
        "for i in range (1,7):\n",
        "    t.forward(100)\n",
        "    t.forward(-30)\n",
        "    t.left(60)\n",
        "    t.forward(30)\n",
        "    t.forward(-30)\n",
        "\n",
        "    t.right(120)\n",
        "    t.forward(30)\n",
        "    t.forward(-30)\n",
        "\n",
        "    t.left(60)\n",
        "    t.forward(-70)\n",
        "    t.left(60)"
      ],
      "metadata": {
        "id": "TwRtiuz9TY7C"
      },
      "execution_count": null,
      "outputs": []
    },
    {
      "cell_type": "code",
      "source": [
        "import turtle\n",
        "\n",
        "myPen = turtle.Turtle()\n",
        "myPen.speed(0)\n",
        "myPen.color(\"#FF0000\")\n",
        "\n",
        "for j in range (1,10):\n",
        "  for i in range (1,6):\n",
        "      myPen.left(144)\n",
        "      myPen.forward(200)\n",
        "  myPen.left(10)"
      ],
      "metadata": {
        "id": "6iqwNJfTTdOc"
      },
      "execution_count": null,
      "outputs": []
    },
    {
      "cell_type": "code",
      "source": [
        "import turtle\n",
        "import random\n",
        "\n",
        "t = turtle.Turtle()\n",
        "t.shape(\"turtle\")\n",
        "\n",
        "for j in range (1,10):\n",
        "    t.up()\n",
        "    x = random.randint(-200, 200)\n",
        "    y = random.randint(-200, 200)\n",
        "    r = random.randint(10, 200)\n",
        "    t.goto(x, y)\n",
        "    t.down()\n",
        "    t.circle(r)"
      ],
      "metadata": {
        "id": "4CQONQiXTf-T"
      },
      "execution_count": null,
      "outputs": []
    },
    {
      "cell_type": "code",
      "source": [
        "import turtle\n",
        "\n",
        "t = turtle.Turtle()\n",
        "t.shape(\"turtle\")\n",
        "\n",
        "for i in range(5):\n",
        "    t.forward(200);\n",
        "    t.right(90)\n",
        "    t.forward(20);\n",
        "    t.right(90)\n",
        "    t.forward(200);\n",
        "    t.left(90)\n",
        "    t.forward(20);\n",
        "    t.left(90)"
      ],
      "metadata": {
        "id": "k3Uwq4rFTiTh"
      },
      "execution_count": null,
      "outputs": []
    },
    {
      "cell_type": "code",
      "source": [
        "import turtle\n",
        "t = turtle.Turtle()\n",
        "t.shape(\"turtle\")\n",
        "t.color('red', 'yellow')\n",
        "t.begin_fill()\n",
        "while True:\n",
        "    t.forward(200)\n",
        "    t.left(170)\n",
        "    if abs(t.pos()) < 1:\n",
        "        break\n",
        "t.end_fill()"
      ],
      "metadata": {
        "id": "ELHXjXvGTkHR"
      },
      "execution_count": null,
      "outputs": []
    },
    {
      "cell_type": "code",
      "source": [
        "import turtle\n",
        "import math\n",
        "\n",
        "t= turtle.Turtle()\n",
        "t.shape(\"turtle\")\n",
        "t.color('red', 'yellow')\n",
        "\n",
        "for x in range(0, 360):\n",
        "       t.goto(x,200*math.sin(x*3.14/180))"
      ],
      "metadata": {
        "id": "DVl41hK6TmbH"
      },
      "execution_count": null,
      "outputs": []
    },
    {
      "cell_type": "code",
      "source": [],
      "metadata": {
        "id": "PRp_XPpYUvsP"
      },
      "execution_count": null,
      "outputs": []
    }
  ]
}